{
 "cells": [
  {
   "cell_type": "markdown",
   "metadata": {},
   "source": [
    "\n",
    "Helpful Links: [Kaggle: Real or Not? NLP with Disaster Tweets](https://www.kaggle.com/c/nlp-getting-started/overview), [Getting Started with NLP](https://www.kaggle.com/parulpandey/getting-started-with-nlp-a-general-intro), [All you need to know about Text Preprocessing for Machine Learning & NLP](https://kavita-ganesan.com/text-preprocessing-tutorial/#.XkMU3Gi6OUl), [deepai.org](https://deepai.org/machine-learning-glossary-and-terms/f-score), [Beyond Accuracy: Precision and Recall](https://towardsdatascience.com/beyond-accuracy-precision-and-recall-3da06bea9f6c), [Kaggle NLP Course](https://www.kaggle.com/learn/natural-language-processing?utm_medium=email&utm_source=intercom&utm_campaign=nlp-course-launch), [Simple Implementation Of Word2Vec](https://www.kaggle.com/slatawa/simple-implementation-of-word2vec)"
   ]
  },
  {
   "cell_type": "markdown",
   "metadata": {},
   "source": [
    "# Business Understanding\n"
   ]
  },
  {
   "cell_type": "markdown",
   "metadata": {},
   "source": [
    "The foundation of this use case is to evaluate the ability to use tweets from Twitter users around the world to identify whether the tweet indicates a disasterous situation. The underlying questions this project seeks to answser is: When is a disaster occurring in real time? The ability to identify tweets implying a real time disaster with an acceptable degree of accuracy would enable emergency response teams to act quicker and news media outlets to report on the issue in a more timely manner."
   ]
  },
  {
   "cell_type": "markdown",
   "metadata": {},
   "source": [
    "# Data Understanding\n"
   ]
  },
  {
   "cell_type": "markdown",
   "metadata": {},
   "source": [
    "Tweets can be posted 24/7 by millions of users. Per [David Sayce](https://www.dsayce.com/social-media/tweets-day/), a digital consultant, in October 2019 there was an average of 350,000 tweets per minute. There are numerous concerns when it comes to text analysis and the application on data that is volumnous, poor structure, different languages, and in many parts of the world.\n",
    "\n",
    "Unfortunately, I was unable to discover answers to the following questions:\n",
    "\n",
    "1.) What was the criteria when pulling in the train/test set. It appears to be all in English so some subset must have occurred. We also don't have an idea about WHEN the tweets occurred which could have some relevant value.\n",
    "\n",
    "2.) There are some duplicate tweets with different labels. This is a mistake in the train/test set or perhaps they represent retweets, but retweeting doesn't change the context of the tweet and if it's related to a disaster. Why the different labels?\n",
    "\n",
    "3.) What constitutes a disaster? There are natural disasters, political disasters. Some are subjective."
   ]
  },
  {
   "cell_type": "markdown",
   "metadata": {},
   "source": [
    "Step 1:\n",
    "Read in both the test and train set for the twitter data. \n",
    "\n",
    "Note that the train set is composed of 5 columns (one being the target column) and 7613 observations. The test set is made of 4 columns (excludes the target column) and has 3263 observations."
   ]
  },
  {
   "cell_type": "code",
   "execution_count": 40,
   "metadata": {},
   "outputs": [],
   "source": [
    "# File system management\n",
    "import numpy as np \n",
    "import pandas as pd \n",
    "import re\n",
    "\n",
    "# matplotlib and seaborn for plotting\n",
    "import matplotlib.pyplot as plt\n",
    "import seaborn as sns\n",
    "\n",
    "# File system manangement\n",
    "import os\n",
    "\n",
    "# Suppress warnings \n",
    "import warnings\n",
    "warnings.filterwarnings('ignore')\n",
    "\n",
    "# Read in training data\n",
    "#train_df = pd.read_csv('twitter_train.csv') # original training set\n",
    "train_df = pd.read_csv('clean_training_data_1124p.csv') ## load this in order to skip the data pre-processing computation time.\n",
    "\n",
    "\n",
    "# Read in test data\n",
    "#test_df = pd.read_csv('twitter_test.csv')\n",
    "test_df= pd.read_csv('clean_testing_data_1244p.csv')"
   ]
  },
  {
   "cell_type": "markdown",
   "metadata": {},
   "source": [
    "### Describe the Dataset"
   ]
  },
  {
   "cell_type": "code",
   "execution_count": 41,
   "metadata": {},
   "outputs": [
    {
     "name": "stdout",
     "output_type": "stream",
     "text": [
      "Training data shape: (7613, 6)\n",
      "Test data shape: (3263, 5)\n"
     ]
    },
    {
     "data": {
      "text/html": [
       "<div>\n",
       "<style scoped>\n",
       "    .dataframe tbody tr th:only-of-type {\n",
       "        vertical-align: middle;\n",
       "    }\n",
       "\n",
       "    .dataframe tbody tr th {\n",
       "        vertical-align: top;\n",
       "    }\n",
       "\n",
       "    .dataframe thead th {\n",
       "        text-align: right;\n",
       "    }\n",
       "</style>\n",
       "<table border=\"1\" class=\"dataframe\">\n",
       "  <thead>\n",
       "    <tr style=\"text-align: right;\">\n",
       "      <th></th>\n",
       "      <th>id</th>\n",
       "      <th>keyword</th>\n",
       "      <th>location</th>\n",
       "      <th>text</th>\n",
       "      <th>target</th>\n",
       "      <th>text_clean</th>\n",
       "    </tr>\n",
       "  </thead>\n",
       "  <tbody>\n",
       "    <tr>\n",
       "      <th>0</th>\n",
       "      <td>1</td>\n",
       "      <td>NaN</td>\n",
       "      <td>NaN</td>\n",
       "      <td>Our Deeds are the Reason of this #earthquake M...</td>\n",
       "      <td>1</td>\n",
       "      <td>deeds reason earthquake may allah forgive us</td>\n",
       "    </tr>\n",
       "    <tr>\n",
       "      <th>1</th>\n",
       "      <td>4</td>\n",
       "      <td>NaN</td>\n",
       "      <td>NaN</td>\n",
       "      <td>Forest fire near La Ronge Sask. Canada</td>\n",
       "      <td>1</td>\n",
       "      <td>forest fire near la range saska canada</td>\n",
       "    </tr>\n",
       "    <tr>\n",
       "      <th>2</th>\n",
       "      <td>5</td>\n",
       "      <td>NaN</td>\n",
       "      <td>NaN</td>\n",
       "      <td>All residents asked to 'shelter in place' are ...</td>\n",
       "      <td>1</td>\n",
       "      <td>residents asked shelter place notified officer...</td>\n",
       "    </tr>\n",
       "    <tr>\n",
       "      <th>3</th>\n",
       "      <td>6</td>\n",
       "      <td>NaN</td>\n",
       "      <td>NaN</td>\n",
       "      <td>13,000 people receive #wildfires evacuation or...</td>\n",
       "      <td>1</td>\n",
       "      <td>r3000 people receive wildfire evacuation order...</td>\n",
       "    </tr>\n",
       "    <tr>\n",
       "      <th>4</th>\n",
       "      <td>7</td>\n",
       "      <td>NaN</td>\n",
       "      <td>NaN</td>\n",
       "      <td>Just got sent this photo from Ruby #Alaska as ...</td>\n",
       "      <td>1</td>\n",
       "      <td>got sent photo ruby alaska smoke wildfire pour...</td>\n",
       "    </tr>\n",
       "  </tbody>\n",
       "</table>\n",
       "</div>"
      ],
      "text/plain": [
       "   id keyword location                                               text  \\\n",
       "0   1     NaN      NaN  Our Deeds are the Reason of this #earthquake M...   \n",
       "1   4     NaN      NaN             Forest fire near La Ronge Sask. Canada   \n",
       "2   5     NaN      NaN  All residents asked to 'shelter in place' are ...   \n",
       "3   6     NaN      NaN  13,000 people receive #wildfires evacuation or...   \n",
       "4   7     NaN      NaN  Just got sent this photo from Ruby #Alaska as ...   \n",
       "\n",
       "   target                                         text_clean  \n",
       "0       1       deeds reason earthquake may allah forgive us  \n",
       "1       1             forest fire near la range saska canada  \n",
       "2       1  residents asked shelter place notified officer...  \n",
       "3       1  r3000 people receive wildfire evacuation order...  \n",
       "4       1  got sent photo ruby alaska smoke wildfire pour...  "
      ]
     },
     "execution_count": 41,
     "metadata": {},
     "output_type": "execute_result"
    }
   ],
   "source": [
    "print('Training data shape:', train_df.shape)\n",
    "print('Test data shape:', test_df.shape)\n",
    "\n",
    "train_df.head()"
   ]
  },
  {
   "cell_type": "code",
   "execution_count": 42,
   "metadata": {},
   "outputs": [
    {
     "name": "stdout",
     "output_type": "stream",
     "text": [
      "Count Missing Values: \n"
     ]
    },
    {
     "data": {
      "text/plain": [
       "id               0\n",
       "keyword         61\n",
       "location      2533\n",
       "text             0\n",
       "target           0\n",
       "text_clean       0\n",
       "dtype: int64"
      ]
     },
     "execution_count": 42,
     "metadata": {},
     "output_type": "execute_result"
    }
   ],
   "source": [
    "# identify missing values\n",
    "print(\"Count Missing Values: \")\n",
    "train_df.isnull().sum()"
   ]
  },
  {
   "cell_type": "markdown",
   "metadata": {},
   "source": [
    "### About the Target"
   ]
  },
  {
   "cell_type": "code",
   "execution_count": 43,
   "metadata": {},
   "outputs": [
    {
     "data": {
      "text/plain": [
       "0    4342\n",
       "1    3271\n",
       "Name: target, dtype: int64"
      ]
     },
     "execution_count": 43,
     "metadata": {},
     "output_type": "execute_result"
    }
   ],
   "source": [
    "train_df['target'].value_counts()"
   ]
  },
  {
   "cell_type": "code",
   "execution_count": 44,
   "metadata": {},
   "outputs": [
    {
     "data": {
      "text/plain": [
       "<matplotlib.axes._subplots.AxesSubplot at 0x2d498528cf8>"
      ]
     },
     "execution_count": 44,
     "metadata": {},
     "output_type": "execute_result"
    },
    {
     "data": {
      "image/png": "[encoded data removed]",
      "text/plain": [
       "<Figure size 432x288 with 1 Axes>"
      ]
     },
     "metadata": {
      "needs_background": "light"
     },
     "output_type": "display_data"
    }
   ],
   "source": [
    "# Matplotlib and seaborn for plotting\n",
    "import matplotlib.pyplot as plt\n",
    "import seaborn as sns\n",
    "\n",
    "sns.barplot(train_df['target'].value_counts().index,train_df['target'].value_counts(),palette='rocket')"
   ]
  },
  {
   "cell_type": "code",
   "execution_count": 45,
   "metadata": {},
   "outputs": [
    {
     "name": "stdout",
     "output_type": "stream",
     "text": [
      "Counts of label classification when the tweet actually contains the word \"disaster\"\n",
      "1    102\n",
      "0     40\n",
      "Name: target, dtype: int64\n",
      "\n",
      "Examples of tweets that contain the word \"disaster\" but are labeled as non-disasters\n"
     ]
    },
    {
     "data": {
      "text/html": [
       "<div>\n",
       "<style scoped>\n",
       "    .dataframe tbody tr th:only-of-type {\n",
       "        vertical-align: middle;\n",
       "    }\n",
       "\n",
       "    .dataframe tbody tr th {\n",
       "        vertical-align: top;\n",
       "    }\n",
       "\n",
       "    .dataframe thead th {\n",
       "        text-align: right;\n",
       "    }\n",
       "</style>\n",
       "<table border=\"1\" class=\"dataframe\">\n",
       "  <thead>\n",
       "    <tr style=\"text-align: right;\">\n",
       "      <th></th>\n",
       "      <th>id</th>\n",
       "      <th>keyword</th>\n",
       "      <th>location</th>\n",
       "      <th>text</th>\n",
       "      <th>target</th>\n",
       "      <th>text_clean</th>\n",
       "    </tr>\n",
       "  </thead>\n",
       "  <tbody>\n",
       "    <tr>\n",
       "      <th>2781</th>\n",
       "      <td>3998</td>\n",
       "      <td>disaster</td>\n",
       "      <td>Los Angeles, London, Kent</td>\n",
       "      <td>I forgot to bring chocolate with me. Major dis...</td>\n",
       "      <td>0</td>\n",
       "      <td>forgot bring chocolate major disaster</td>\n",
       "    </tr>\n",
       "    <tr>\n",
       "      <th>2783</th>\n",
       "      <td>4003</td>\n",
       "      <td>disaster</td>\n",
       "      <td>Portoviejo-Manabi-Ecuador</td>\n",
       "      <td>I'm a disaster?? https://t.co/VCV73BUaCZ</td>\n",
       "      <td>0</td>\n",
       "      <td>disaster URL</td>\n",
       "    </tr>\n",
       "    <tr>\n",
       "      <th>2784</th>\n",
       "      <td>4005</td>\n",
       "      <td>disaster</td>\n",
       "      <td>NaN</td>\n",
       "      <td>@LovelyLikeLaura I can see why one of your fav...</td>\n",
       "      <td>0</td>\n",
       "      <td>lovelylikelaura see one favorite books beautif...</td>\n",
       "    </tr>\n",
       "    <tr>\n",
       "      <th>2786</th>\n",
       "      <td>4008</td>\n",
       "      <td>disaster</td>\n",
       "      <td>chillin at ceder rapids</td>\n",
       "      <td>Beautiful disaster // Jon McLaughlin is such a...</td>\n",
       "      <td>0</td>\n",
       "      <td>beautiful disaster r jon mclaughlin good song</td>\n",
       "    </tr>\n",
       "    <tr>\n",
       "      <th>2789</th>\n",
       "      <td>4012</td>\n",
       "      <td>disaster</td>\n",
       "      <td>en el pais de los arrechos</td>\n",
       "      <td>beautiful disaster https://t.co/qm5Sz0fyU8</td>\n",
       "      <td>0</td>\n",
       "      <td>beautiful disaster URL</td>\n",
       "    </tr>\n",
       "  </tbody>\n",
       "</table>\n",
       "</div>"
      ],
      "text/plain": [
       "        id   keyword                    location  \\\n",
       "2781  3998  disaster   Los Angeles, London, Kent   \n",
       "2783  4003  disaster   Portoviejo-Manabi-Ecuador   \n",
       "2784  4005  disaster                         NaN   \n",
       "2786  4008  disaster     chillin at ceder rapids   \n",
       "2789  4012  disaster  en el pais de los arrechos   \n",
       "\n",
       "                                                   text  target  \\\n",
       "2781  I forgot to bring chocolate with me. Major dis...       0   \n",
       "2783           I'm a disaster?? https://t.co/VCV73BUaCZ       0   \n",
       "2784  @LovelyLikeLaura I can see why one of your fav...       0   \n",
       "2786  Beautiful disaster // Jon McLaughlin is such a...       0   \n",
       "2789         beautiful disaster https://t.co/qm5Sz0fyU8       0   \n",
       "\n",
       "                                             text_clean  \n",
       "2781              forgot bring chocolate major disaster  \n",
       "2783                                       disaster URL  \n",
       "2784  lovelylikelaura see one favorite books beautif...  \n",
       "2786      beautiful disaster r jon mclaughlin good song  \n",
       "2789                             beautiful disaster URL  "
      ]
     },
     "execution_count": 45,
     "metadata": {},
     "output_type": "execute_result"
    }
   ],
   "source": [
    "print('Counts of label classification when the tweet actually contains the word \"disaster\"')\n",
    "print(train_df.loc[train_df['text'].str.contains('disaster',na=False, case=False)].target.value_counts())\n",
    "\n",
    "print('\\nExamples of tweets that contain the word \"disaster\" but are labeled as non-disasters')\n",
    "train_df.loc[(train_df['text'].str.contains('disaster',na=False, case=False)) & (train_df['target'] == 0)].head()"
   ]
  },
  {
   "cell_type": "markdown",
   "metadata": {},
   "source": [
    "    Explore the Target Variable"
   ]
  },
  {
   "cell_type": "code",
   "execution_count": 46,
   "metadata": {},
   "outputs": [
    {
     "name": "stdout",
     "output_type": "stream",
     "text": [
      "Disaster Tweet:  Forest fire near La Ronge Sask. Canada\n",
      "Not a Disaster Tweet:  I love fruits\n"
     ]
    }
   ],
   "source": [
    "# Example of a disaster tweet\n",
    "disaster_tweets = train_df[train_df['target']==1]['text']\n",
    "print(\"Disaster Tweet: \", disaster_tweets.values[1])\n",
    "\n",
    "# Example of a disaster tweet\n",
    "not_disaster_tweets = train_df[train_df['target']==0]['text']\n",
    "print(\"Not a Disaster Tweet: \",not_disaster_tweets.values[1])"
   ]
  },
  {
   "cell_type": "markdown",
   "metadata": {},
   "source": [
    "    Explore Keyword"
   ]
  },
  {
   "cell_type": "code",
   "execution_count": 47,
   "metadata": {},
   "outputs": [
    {
     "data": {
      "text/plain": [
       "<matplotlib.axes._subplots.AxesSubplot at 0x2d49871db00>"
      ]
     },
     "execution_count": 47,
     "metadata": {},
     "output_type": "execute_result"
    },
    {
     "data": {
      "image/png": "[encoded data removed]",
      "text/plain": [
       "<Figure size 432x288 with 1 Axes>"
      ]
     },
     "metadata": {
      "needs_background": "light"
     },
     "output_type": "display_data"
    }
   ],
   "source": [
    "sns.barplot(y=train_df['keyword'].value_counts()[:20].index,x=train_df['keyword'].value_counts()[:20], orient='h')"
   ]
  },
  {
   "cell_type": "markdown",
   "metadata": {},
   "source": [
    "    Explore location column"
   ]
  },
  {
   "cell_type": "code",
   "execution_count": 48,
   "metadata": {},
   "outputs": [
    {
     "data": {
      "text/plain": [
       "<matplotlib.axes._subplots.AxesSubplot at 0x2d498db95f8>"
      ]
     },
     "execution_count": 48,
     "metadata": {},
     "output_type": "execute_result"
    },
    {
     "data": {
      "image/png": "[encoded data removed]",
      "text/plain": [
       "<Figure size 432x288 with 1 Axes>"
      ]
     },
     "metadata": {
      "needs_background": "light"
     },
     "output_type": "display_data"
    }
   ],
   "source": [
    "# Replacing the ambigious locations name with Standard names\n",
    "train_df['location'].replace({'United States':'USA',\n",
    "                           'New York':'USA',\n",
    "                            \"London\":'UK',\n",
    "                            \"Los Angeles, CA\":'USA',\n",
    "                            \"Washington, D.C.\":'USA',\n",
    "                            \"California\":'USA',\n",
    "                             \"Chicago, IL\":'USA',\n",
    "                             \"Chicago\":'USA',\n",
    "                            \"New York, NY\":'USA',\n",
    "                            \"California, USA\":'USA',\n",
    "                            \"FLorida\":'USA',\n",
    "                            \"Nigeria\":'Africa',\n",
    "                            \"Kenya\":'Africa',\n",
    "                            \"Everywhere\":'Worldwide',\n",
    "                            \"San Francisco\":'USA',\n",
    "                            \"Florida\":'USA',\n",
    "                            \"United Kingdom\":'UK',\n",
    "                            \"Los Angeles\":'USA',\n",
    "                            \"Toronto\":'Canada',\n",
    "                            \"San Francisco, CA\":'USA',\n",
    "                            \"NYC\":'USA',\n",
    "                            \"Seattle\":'USA',\n",
    "                            \"Earth\":'Worldwide',\n",
    "                            \"Ireland\":'UK',\n",
    "                            \"London, England\":'UK',\n",
    "                            \"New York City\":'USA',\n",
    "                            \"Texas\":'USA',\n",
    "                            \"London, UK\":'UK',\n",
    "                            \"Atlanta, GA\":'USA',\n",
    "                            \"Mumbai\":\"India\"},inplace=True)\n",
    "\n",
    "sns.barplot(y=train_df['location'].value_counts()[:5].index,x=train_df['location'].value_counts()[:5],\n",
    "            orient='h')"
   ]
  },
  {
   "cell_type": "markdown",
   "metadata": {},
   "source": [
    "# Data Preparation"
   ]
  },
  {
   "cell_type": "code",
   "execution_count": 49,
   "metadata": {
    "scrolled": false
   },
   "outputs": [],
   "source": [
    "import re\n",
    "import string\n",
    "from IPython.display import clear_output\n",
    "import timeit\n",
    "import datetime\n",
    "import nltk\n",
    "from nltk.corpus import stopwords\n",
    "from spellchecker import SpellChecker\n",
    "spell = SpellChecker()\n",
    "tokenizer = nltk.tokenize.RegexpTokenizer(r'\\w+')\n",
    "\n",
    "#once preprocessing steps have been identified and complete, combine into one function such as below:\n",
    "\n",
    "def general_preprocessing(text):\n",
    "    text = text.lower()\n",
    "    text = re.sub(r\"i'm\", \"i am\", text)\n",
    "    text = re.sub(r\"you'll\", \"you will\", text)\n",
    "    text = re.sub(r\"i'll\", \"i will\", text)\n",
    "    text = re.sub(r\"she'll\", \"she will\", text)\n",
    "    text = re.sub(r\"he'll\", \"he will\", text)\n",
    "    text = re.sub(r\"he's\", \"he is\", text)\n",
    "    text = re.sub(r\"she's\", \"she is\", text)\n",
    "    text = re.sub(r\"that's\", \"that is\", text)\n",
    "    text = re.sub(r\"what's\", \"what is\", text)\n",
    "    text = re.sub(r\"where's\", \"where is\", text)\n",
    "    text = re.sub(r\"there's\", \"there is\", text)\n",
    "    text = re.sub(r\"here's\", \"here is\", text)\n",
    "    text = re.sub(r\"who's\", \"who is\", text)\n",
    "    text = re.sub(r\"how's\", \"how is\", text)\n",
    "    text = re.sub(r\"\\'ll\", \" will\", text)\n",
    "    text = re.sub(r\"\\'ve\", \" have\", text)\n",
    "    text = re.sub(r\"\\'re\", \" are\", text)\n",
    "    text = re.sub(r\"\\'d\", \" would\", text)\n",
    "    text = re.sub(r\"can't\", \"cannot\", text)\n",
    "    text = re.sub(r\"won't\", \"will not\", text)\n",
    "    text = re.sub(r\"don't\", \"do not\", text)\n",
    "    text = re.sub(r\"shouldn't\", \"should not\", text)\n",
    "    text = re.sub(r\"n't\", \" not\", text)\n",
    "    text = re.sub(r\"   \", \" \", text) # Remove any extra spaces\n",
    "    return text\n",
    "\n",
    " # Repalce URLS \n",
    "def replace_URLS(text):\n",
    "    url= re.compile(r'https?://\\S+|www\\.\\S+')\n",
    "    return url.sub(r'[URL]',text)\n",
    "\n",
    "# Reference : https://gist.github.com/slowkow/7a7f61f495e3dbb7e3d767f97bd7304b\n",
    "def remove_emoji(text):\n",
    "    emoji_pattern = re.compile(\"[\"\n",
    "                           u\"\\U0001F600-\\U0001F64F\"  # emoticons\n",
    "                           u\"\\U0001F300-\\U0001F5FF\"  # symbols & pictographs\n",
    "                           u\"\\U0001F680-\\U0001F6FF\"  # transport & map symbols\n",
    "                           u\"\\U0001F1E0-\\U0001F1FF\"  # flags (iOS)\n",
    "                           u\"\\U00002702-\\U000027B0\"\n",
    "                           u\"\\U000024C2-\\U0001F251\"\n",
    "                           \"]+\", flags=re.UNICODE)\n",
    "    return emoji_pattern.sub(r'', text)\n",
    "\n",
    "def correct_mispelled_words(text):\n",
    "    correct_text=[]\n",
    "    incorrect_text = spell.unknown(text.split())\n",
    "    for word in text.split():\n",
    "        if word in incorrect_text:\n",
    "            correct_text.append(spell.correction(word))\n",
    "        else:\n",
    "            correct_text.append(word)\n",
    "    return \" \".join(correct_text)\n",
    "\n",
    "def remove_stopwords(text):\n",
    "    words = [w for w in text if w not in stopwords.words('english')]\n",
    "    return words\n",
    "\n",
    "def combine_text(list_of_text):\n",
    "    combined_text = ' '.join(list_of_text)\n",
    "    return combined_text\n",
    "\n",
    "def text_preprocessing(text):\n",
    "    \"\"\"\n",
    "    Cleaning and parsing the text.\n",
    "\n",
    "    \"\"\"\n",
    "    text = general_preprocessing(text)\n",
    "    text = replace_URLS(text)\n",
    "    text = remove_emoji(text)\n",
    "    text = correct_mispelled_words(text)\n",
    "    text = tokenizer.tokenize(text)\n",
    "    text = remove_stopwords(text)\n",
    "    text = combine_text(text)\n",
    "    \n",
    "    return text\n",
    "\n",
    "def generate_CSV(df,file_name):\n",
    "    file_name = file_name+\".csv\"\n",
    "    df.to_csv(file_name, index=False)\n",
    "\n",
    "def _text_preprocessing(df,df_type):\n",
    "    if \"text_clean\" not in df:\n",
    "        # If for some reason, text was NULL, remove it\n",
    "        df = df.dropna(subset=[\"text\"])\n",
    "        \n",
    "        # Assign the text_clean column to all values of text\n",
    "        df[\"text_clean\"] = df[\"text\"]\n",
    "        \n",
    "        # Record computation time\n",
    "        start= timeit.default_timer()\n",
    "        \n",
    "        #Loop over all rows of the dataframe\n",
    "        for r in range(0, len(df)):\n",
    "            \n",
    "            # This allows the continuous output for the execution time.\n",
    "            clear_output(wait=True)\n",
    "\n",
    "            #Execute Text Preprocessing steps\n",
    "            df['text_clean'].values[r] = text_preprocessing(df['text'].values[r])\n",
    "                \n",
    "            # Stop timer since steps have been completed\n",
    "            stop = timeit.default_timer()\n",
    "    \n",
    "            # Calculate when the tasks should be complete.\n",
    "            if (r/len(df)*100<5) :\n",
    "                expected_time = \"Calculating...\"\n",
    "            else:\n",
    "                time_perc = timeit.default_timer()\n",
    "                expected_time = np.round((time_perc-start)/(r/len(df))/60,2)\n",
    "            \n",
    "            # Advises if we are on the test file or train file\n",
    "            print(df_type)\n",
    "            print(\"Current Progress: \", np.round(r/len(df)*100,2),\"%\")\n",
    "            print(\"Current Run Time: \", np.round((stop-start)/60,2),\" minutes\")\n",
    "            print(\"Expected Run Time: \", expected_time, \" minutes\")\n",
    "            print(\"\\n\", df['text_clean'].values[r])\n",
    "\n",
    "        #If after the text preprocessing steps, if the text is now empty, remove it/\n",
    "        df = df.dropna(subset=[\"text_clean\"])\n",
    "        # save to file so we can just load this next time.\n",
    "        filename = \"clean_{1}_{0:%I%Mp}\".format(datetime.datetime.now(),df_type)\n",
    "        generate_CSV(df,filename)\n",
    "        \n",
    "    return df\n",
    "\n",
    "train_df = _text_preprocessing(train_df,\"training_data\")\n",
    "test_df = _text_preprocessing(test_df,\"testing_data\")"
   ]
  },
  {
   "cell_type": "code",
   "execution_count": 50,
   "metadata": {},
   "outputs": [
    {
     "ename": "TypeError",
     "evalue": "'float' object is not iterable",
     "output_type": "error",
     "traceback": [
      "\u001b[1;31m---------------------------------------------------------------------------\u001b[0m",
      "\u001b[1;31mTypeError\u001b[0m                                 Traceback (most recent call last)",
      "\u001b[1;32m<ipython-input-50-4bff805dbc6f>\u001b[0m in \u001b[0;36m<module>\u001b[1;34m\u001b[0m\n\u001b[0;32m      9\u001b[0m \u001b[1;33m\u001b[0m\u001b[0m\n\u001b[0;32m     10\u001b[0m \u001b[0mtrain_df\u001b[0m\u001b[1;33m[\u001b[0m\u001b[1;34m'text_clean'\u001b[0m\u001b[1;33m]\u001b[0m \u001b[1;33m=\u001b[0m \u001b[0mtrain_df\u001b[0m\u001b[1;33m[\u001b[0m\u001b[1;34m'text_clean'\u001b[0m\u001b[1;33m]\u001b[0m\u001b[1;33m.\u001b[0m\u001b[0mapply\u001b[0m\u001b[1;33m(\u001b[0m\u001b[0mlemmatize_text\u001b[0m\u001b[1;33m)\u001b[0m\u001b[1;33m\u001b[0m\u001b[1;33m\u001b[0m\u001b[0m\n\u001b[1;32m---> 11\u001b[1;33m \u001b[0mtest_df\u001b[0m\u001b[1;33m[\u001b[0m\u001b[1;34m'text_clean'\u001b[0m\u001b[1;33m]\u001b[0m \u001b[1;33m=\u001b[0m \u001b[0mtest_df\u001b[0m\u001b[1;33m[\u001b[0m\u001b[1;34m'text_clean'\u001b[0m\u001b[1;33m]\u001b[0m\u001b[1;33m.\u001b[0m\u001b[0mapply\u001b[0m\u001b[1;33m(\u001b[0m\u001b[0mlemmatize_text\u001b[0m\u001b[1;33m)\u001b[0m\u001b[1;33m\u001b[0m\u001b[1;33m\u001b[0m\u001b[0m\n\u001b[0m",
      "\u001b[1;32m~\\Anaconda3\\envs\\development\\lib\\site-packages\\pandas\\core\\series.py\u001b[0m in \u001b[0;36mapply\u001b[1;34m(self, func, convert_dtype, args, **kwds)\u001b[0m\n\u001b[0;32m   3846\u001b[0m             \u001b[1;32melse\u001b[0m\u001b[1;33m:\u001b[0m\u001b[1;33m\u001b[0m\u001b[1;33m\u001b[0m\u001b[0m\n\u001b[0;32m   3847\u001b[0m                 \u001b[0mvalues\u001b[0m \u001b[1;33m=\u001b[0m \u001b[0mself\u001b[0m\u001b[1;33m.\u001b[0m\u001b[0mastype\u001b[0m\u001b[1;33m(\u001b[0m\u001b[0mobject\u001b[0m\u001b[1;33m)\u001b[0m\u001b[1;33m.\u001b[0m\u001b[0mvalues\u001b[0m\u001b[1;33m\u001b[0m\u001b[1;33m\u001b[0m\u001b[0m\n\u001b[1;32m-> 3848\u001b[1;33m                 \u001b[0mmapped\u001b[0m \u001b[1;33m=\u001b[0m \u001b[0mlib\u001b[0m\u001b[1;33m.\u001b[0m\u001b[0mmap_infer\u001b[0m\u001b[1;33m(\u001b[0m\u001b[0mvalues\u001b[0m\u001b[1;33m,\u001b[0m \u001b[0mf\u001b[0m\u001b[1;33m,\u001b[0m \u001b[0mconvert\u001b[0m\u001b[1;33m=\u001b[0m\u001b[0mconvert_dtype\u001b[0m\u001b[1;33m)\u001b[0m\u001b[1;33m\u001b[0m\u001b[1;33m\u001b[0m\u001b[0m\n\u001b[0m\u001b[0;32m   3849\u001b[0m \u001b[1;33m\u001b[0m\u001b[0m\n\u001b[0;32m   3850\u001b[0m         \u001b[1;32mif\u001b[0m \u001b[0mlen\u001b[0m\u001b[1;33m(\u001b[0m\u001b[0mmapped\u001b[0m\u001b[1;33m)\u001b[0m \u001b[1;32mand\u001b[0m \u001b[0misinstance\u001b[0m\u001b[1;33m(\u001b[0m\u001b[0mmapped\u001b[0m\u001b[1;33m[\u001b[0m\u001b[1;36m0\u001b[0m\u001b[1;33m]\u001b[0m\u001b[1;33m,\u001b[0m \u001b[0mSeries\u001b[0m\u001b[1;33m)\u001b[0m\u001b[1;33m:\u001b[0m\u001b[1;33m\u001b[0m\u001b[1;33m\u001b[0m\u001b[0m\n",
      "\u001b[1;32mpandas\\_libs\\lib.pyx\u001b[0m in \u001b[0;36mpandas._libs.lib.map_infer\u001b[1;34m()\u001b[0m\n",
      "\u001b[1;32m<ipython-input-50-4bff805dbc6f>\u001b[0m in \u001b[0;36mlemmatize_text\u001b[1;34m(text)\u001b[0m\n\u001b[0;32m      3\u001b[0m     \u001b[1;32mfrom\u001b[0m \u001b[0mnltk\u001b[0m\u001b[1;33m.\u001b[0m\u001b[0mstem\u001b[0m \u001b[1;32mimport\u001b[0m \u001b[0mWordNetLemmatizer\u001b[0m\u001b[1;33m\u001b[0m\u001b[1;33m\u001b[0m\u001b[0m\n\u001b[0;32m      4\u001b[0m     \u001b[0mlem\u001b[0m \u001b[1;33m=\u001b[0m \u001b[0mWordNetLemmatizer\u001b[0m\u001b[1;33m(\u001b[0m\u001b[1;33m)\u001b[0m\u001b[1;33m\u001b[0m\u001b[1;33m\u001b[0m\u001b[0m\n\u001b[1;32m----> 5\u001b[1;33m     tweet = [lem.lemmatize(word) for word in text\n\u001b[0m\u001b[0;32m      6\u001b[0m         if word not in set(stopwords.words('english'))]\n\u001b[0;32m      7\u001b[0m     \u001b[0mtext\u001b[0m \u001b[1;33m=\u001b[0m \u001b[1;34m' '\u001b[0m\u001b[1;33m.\u001b[0m\u001b[0mjoin\u001b[0m\u001b[1;33m(\u001b[0m\u001b[0mtext\u001b[0m\u001b[1;33m)\u001b[0m\u001b[1;33m\u001b[0m\u001b[1;33m\u001b[0m\u001b[0m\n",
      "\u001b[1;31mTypeError\u001b[0m: 'float' object is not iterable"
     ]
    }
   ],
   "source": [
    "#nltk.download('wordnet')\n",
    "def lemmatize_text(text):\n",
    "    from nltk.stem import WordNetLemmatizer\n",
    "    lem = WordNetLemmatizer()\n",
    "    tweet = [lem.lemmatize(word) for word in text\n",
    "        if word not in set(stopwords.words('english'))]\n",
    "    text = ' '.join(text)\n",
    "    return text\n",
    "\n",
    "train_df['text_clean'] = train_df['text_clean'].apply(lemmatize_text)\n",
    "test_df['text_clean'] = test_df['text_clean'].apply(lemmatize_text)"
   ]
  },
  {
   "cell_type": "code",
   "execution_count": null,
   "metadata": {},
   "outputs": [],
   "source": [
    "# Drop location, keyword, and text. Location and Keyword has too many null values. We did the preprocessing off of text\n",
    "# and no longer need that column.\n",
    "train_df = train_df.drop(\"location\",axis=1)\n",
    "train_df = train_df.drop(\"keyword\",axis=1)\n",
    "train_df = train_df.drop(\"text\",axis=1)\n",
    "train_df.head()"
   ]
  },
  {
   "cell_type": "code",
   "execution_count": null,
   "metadata": {
    "scrolled": true
   },
   "outputs": [],
   "source": [
    "# Drop location, keyword, and text. Location and Keyword has too many null values. We did the preprocessing off of text\n",
    "# and no longer need that column.\n",
    "test_df = test_df.drop(\"location\",axis=1)\n",
    "test_df = test_df.drop(\"keyword\",axis=1)\n",
    "test_df = test_df.drop(\"text\",axis=1)\n",
    "test_df.head()"
   ]
  },
  {
   "cell_type": "code",
   "execution_count": null,
   "metadata": {},
   "outputs": [],
   "source": [
    "# Text Normalization\n",
    "# Maybe use stemming or lemmatization?"
   ]
  },
  {
   "cell_type": "code",
   "execution_count": null,
   "metadata": {},
   "outputs": [],
   "source": [
    "from sklearn.feature_extraction.text import CountVectorizer,TfidfVectorizer\n",
    "\n",
    "## BOW\n",
    "bow_transform = CountVectorizer()\n",
    "bow_train = bow_transform.fit_transform(train_df['text_clean'])\n",
    "bow_test = bow_transform.fit_transform(test_df['text_clean'])\n",
    "\n",
    "print(bow_train[0].todense()) #why? revisit page 64 of hands on ml book\n",
    "\n",
    "## TFIDF\n",
    "tfidf_transform = TfidfVectorizer(min_df=2, max_df=0.5, ngram_range=(1, 2))\n",
    "tfidf_train = tfidf_transform.fit_transform(train_df['text_clean'])\n",
    "tfidf_test = tfidf_transform.fit_transform(test_df['text_clean'])"
   ]
  },
  {
   "cell_type": "markdown",
   "metadata": {},
   "source": [
    "# Modeling\n"
   ]
  },
  {
   "cell_type": "code",
   "execution_count": null,
   "metadata": {},
   "outputs": [],
   "source": [
    "# SKlearn\n",
    "from sklearn import model_selection\n",
    "from sklearn.metrics import f1_score\n",
    "#from sklearn import preprocessing, decomposition, model_selection, metrics, pipeline\n",
    "#from sklearn.model_selection import GridSearchCV, StratifiedKFold, RandomizedSearchCV\n",
    "\n",
    "# Supress warnings\n",
    "import warnings\n",
    "warnings.filterwarnings('ignore')"
   ]
  },
  {
   "cell_type": "code",
   "execution_count": null,
   "metadata": {},
   "outputs": [],
   "source": [
    "from sklearn.linear_model import LogisticRegression\n",
    "## Logistic Regression Classifier\n",
    "clf_bow = LogisticRegression(C=1.0)\n",
    "scores = model_selection.cross_val_score(clf_bow, bow_train, train_df['target'], cv=5, scoring=\"f1\")\n",
    "print(\"SCORES: \", scores)\n",
    "print(\"\\n AVERAGE OF SCORES: \", np.mean(scores))\n",
    "print(\"\\n STANDARD DEVIATION: \", np.std(scores))\n",
    "clf_bow.fit(bow_train, train_df[\"target\"])"
   ]
  },
  {
   "cell_type": "code",
   "execution_count": null,
   "metadata": {},
   "outputs": [],
   "source": [
    "clf_tfidf = LogisticRegression(C=1.0)\n",
    "scores = model_selection.cross_val_score(clf_tfidf, tfidf_train, train_df[\"target\"], cv=5, scoring=\"f1\")\n",
    "print(\"SCORES: \", scores)\n",
    "print(\"\\n AVERAGE OF SCORES: \", np.mean(scores))\n",
    "print(\"\\n STANDARD DEVIATION: \", np.std(scores))\n",
    "clf_tfidf.fit(tfidf_train, train_df[\"target\"])"
   ]
  },
  {
   "cell_type": "code",
   "execution_count": null,
   "metadata": {},
   "outputs": [],
   "source": [
    "from sklearn.naive_bayes import MultinomialNB\n",
    "# Naive Bayes Classifier - BOW\n",
    "clf_nb_bow = MultinomialNB()\n",
    "scores = model_selection.cross_val_score(clf_nb_bow, bow_train, train_df[\"target\"], cv=5, scoring=\"f1\")\n",
    "print(\"SCORES: \", scores)\n",
    "print(\"\\n AVERAGE OF SCORES: \", np.mean(scores))\n",
    "print(\"\\n STANDARD DEVIATION: \", np.std(scores))"
   ]
  },
  {
   "cell_type": "code",
   "execution_count": null,
   "metadata": {},
   "outputs": [],
   "source": [
    "clf_nb_bow.fit(bow_train,train_df[\"target\"])"
   ]
  },
  {
   "cell_type": "code",
   "execution_count": null,
   "metadata": {},
   "outputs": [],
   "source": [
    "# Naive Bayes Classifier - TFIDF\n",
    "clf_nb_tfidf = MultinomialNB()\n",
    "scores = model_selection.cross_val_score(clf_nb_tfidf, tfidf_train, train_df[\"target\"], cv=5, scoring=\"f1\")\n",
    "print(\"SCORES: \", scores)\n",
    "print(\"\\n AVERAGE OF SCORES: \", np.mean(scores))\n",
    "print(\"\\n STANDARD DEVIATION: \", np.std(scores))"
   ]
  },
  {
   "cell_type": "code",
   "execution_count": null,
   "metadata": {},
   "outputs": [],
   "source": [
    "clf_nb_tfidf.fit(tfidf_train,train_df[\"target\"])"
   ]
  },
  {
   "cell_type": "code",
   "execution_count": null,
   "metadata": {},
   "outputs": [],
   "source": [
    "# XGBoost\n",
    "import xgboost as xgb\n",
    "from xgboost import XGBClassifier\n",
    "\n",
    "clf_xgb_bow = xgb.XGBClassifier(max_depth=7, n_estimators=200, colsample_bytree=0.8, \n",
    "                        subsample=0.8, nthread=10, learning_rate=0.1)\n",
    "scores = model_selection.cross_val_score(clf_xgb_bow, bow_train, train_df[\"target\"], cv=5, scoring=\"f1\")\n",
    "print(\"SCORES: \", scores)\n",
    "print(\"\\n AVERAGE OF SCORES: \", np.mean(scores))\n",
    "print(\"\\n STANDARD DEVIATION: \", np.std(scores))"
   ]
  },
  {
   "cell_type": "code",
   "execution_count": null,
   "metadata": {},
   "outputs": [],
   "source": [
    "clf_xgb_tfidf = xgb.XGBClassifier(max_depth=7, n_estimators=200, colsample_bytree=0.8, \n",
    "                        subsample=0.8, nthread=10, learning_rate=0.1)\n",
    "scores = model_selection.cross_val_score(clf_xgb_tfidf, tfidf_train, train_df[\"target\"], cv=5, scoring=\"f1\")\n",
    "print(\"SCORES: \", scores)\n",
    "print(\"\\n AVERAGE OF SCORES: \", np.mean(scores))\n",
    "print(\"\\n STANDARD DEVIATION: \", np.std(scores))"
   ]
  },
  {
   "cell_type": "markdown",
   "metadata": {},
   "source": [
    "### Word2Vec"
   ]
  },
  {
   "cell_type": "code",
   "execution_count": null,
   "metadata": {},
   "outputs": [],
   "source": [
    "from nltk.tokenize import word_tokenize\n",
    "\n",
    "train_df['tokens']=train_df['text_clean'].apply(lambda x: word_tokenize(x))\n",
    "test_df['tokens']=test_df['text_clean'].apply(lambda x: word_tokenize(x))"
   ]
  },
  {
   "cell_type": "code",
   "execution_count": null,
   "metadata": {},
   "outputs": [],
   "source": [
    "import gensim\n",
    "def fn_pre_process_data(doc):\n",
    "    for rec in doc:\n",
    "        yield gensim.utils.simple_preprocess(rec)\n",
    "\n",
    "corpus = list(fn_pre_process_data(train_df['text_clean']))\n",
    "corpus += list(fn_pre_process_data(train_df['text_clean']))\n",
    "\n",
    "from gensim.models import Word2Vec\n",
    "\n",
    "print('initiated ...')\n",
    "wv_model = Word2Vec(corpus,size=150,window=3,min_count=2)\n",
    "wv_model.train(corpus,total_examples=len(corpus),epochs=10)"
   ]
  },
  {
   "cell_type": "code",
   "execution_count": null,
   "metadata": {},
   "outputs": [],
   "source": [
    "def get_word_embeddings(token_list,vector,k=150):\n",
    "    if len(token_list) < 1:\n",
    "        return np.zeros(k)\n",
    "    else:\n",
    "        vectorized = [vector[word] if word in vector else np.random.rand(k) for word in token_list] \n",
    "    \n",
    "    sum = np.sum(vectorized,axis=0)\n",
    "    ## return the average\n",
    "    return sum/len(vectorized)        \n",
    "def get_embeddings(tokens,vector):\n",
    "        embeddings = tokens.apply(lambda x: get_word_embeddings(x, wv_model))\n",
    "        return list(embeddings)\n",
    "\n",
    "train_embeddings = get_embeddings(train_df['tokens'],wv_model)\n",
    "test_embeddings = get_embeddings(test_df['tokens'],wv_model)"
   ]
  },
  {
   "cell_type": "code",
   "execution_count": null,
   "metadata": {},
   "outputs": [],
   "source": [
    "from sklearn.linear_model import LogisticRegression\n",
    "from sklearn.model_selection import GridSearchCV\n",
    "\n",
    "lr_model = LogisticRegression()\n",
    "grid_values ={'penalty':['l1','l2'],'C':[0.0001,0.001,0.01,0.1,1,10]}\n",
    "grid_search_model = GridSearchCV(lr_model,param_grid=grid_values,cv=3)\n",
    "grid_search_model.fit(train_embeddings,train_df['target'])\n",
    "print(grid_search_model.best_estimator_)\n",
    "print(grid_search_model.best_score_)\n",
    "print(grid_search_model.best_params_)\n",
    "\n",
    "predict_lr = grid_search_model.predict(test_embeddings)"
   ]
  },
  {
   "cell_type": "code",
   "execution_count": null,
   "metadata": {},
   "outputs": [],
   "source": [
    "predict_df = pd.DataFrame()\n",
    "predict_df['id'] = test_df['id']\n",
    "predict_df['target'] = predict_lr\n",
    "predict_df.to_csv('sample_submission_100.csv', index=False)"
   ]
  },
  {
   "cell_type": "markdown",
   "metadata": {},
   "source": [
    "### SVM"
   ]
  },
  {
   "cell_type": "code",
   "execution_count": null,
   "metadata": {},
   "outputs": [],
   "source": [
    "from sklearn.svm import SVC\n",
    "\n",
    "svc_model = SVC()\n",
    "grid_values ={'C':[0.0001,0.001,0.01,0.1,1,10]}\n",
    "\n",
    "grid_search_model = GridSearchCV(svc_model,param_grid=grid_values,cv=3)\n",
    "grid_search_model.fit(train_embeddings,train_df['target'])\n",
    "print(grid_search_model.best_estimator_)\n",
    "print(grid_search_model.best_score_)\n",
    "print(grid_search_model.best_params_)\n",
    "\n",
    "predict_svc = grid_search_model.predict(test_embeddings)"
   ]
  },
  {
   "cell_type": "markdown",
   "metadata": {},
   "source": [
    "### Random Forest"
   ]
  },
  {
   "cell_type": "code",
   "execution_count": null,
   "metadata": {},
   "outputs": [],
   "source": [
    "from sklearn.ensemble import RandomForestClassifier\n",
    "from sklearn.model_selection import GridSearchCV\n",
    "\n",
    "rf_model = RandomForestClassifier()\n",
    "grid_values ={'n_estimators':[10,50,100,150,200,300,400]}\n",
    "\n",
    "grid_search_model = GridSearchCV(rf_model,param_grid=grid_values,cv=3)\n",
    "grid_search_model.fit(train_embeddings,train_df['target'])\n",
    "print(grid_search_model.best_estimator_)\n",
    "print(grid_search_model.best_score_)\n",
    "print(grid_search_model.best_params_)\n",
    "\n",
    "predict_rf = grid_search_model.predict(test_embeddings)"
   ]
  },
  {
   "cell_type": "markdown",
   "metadata": {},
   "source": [
    "# Evaluation\n"
   ]
  },
  {
   "cell_type": "markdown",
   "metadata": {},
   "source": [
    "## F1 Score\n",
    "The evaluation metric that the Kaggle competition uses is the F1 score. This paragraph is meant to define the F1 score and understand what contributes to this score.\n",
    "\n",
    "According to [deepai.org](https://deepai.org/machine-learning-glossary-and-terms/f-score), the F1 score is the harmonic mean of the precision and recall.\n",
    "\n",
    "[Beyond Accuracy: Precision and Recall](https://towardsdatascience.com/beyond-accuracy-precision-and-recall-3da06bea9f6c), a blog published on Towards Data Science, authored by Will Koehresen helps us define each piece of the F1 Score.\n",
    "\n",
    "Precision - the proportion of positive results that are truly positive. The calculation is the count of correctly identified disasters divided by every observation labeled as a disaster regardless of correctness. The score is penalized by the incorrectly labeled \"disaster\" observations .\n",
    "\n",
    "Recall - measures the model's ability to identify true positives in a dataset. The true positives are divided by all positive instances, regardless of the model's ability to correctly identify them. This score is penalized by classifying true disasters observations as false (not a disaster).\n",
    "\n",
    "![title](img/recall_df.png)\n",
    "![title](img/precision_df.png)"
   ]
  },
  {
   "cell_type": "code",
   "execution_count": null,
   "metadata": {},
   "outputs": [],
   "source": [
    "def _recall(true_positives, false_negatives):\n",
    "    return (true_positives)/(true_positives + false_negatives)\n",
    "def _precision(true_positives, false_positives):\n",
    "    return (true_positives)/(true_positives + false_positives)\n",
    "def _f1(precision, recall):\n",
    "    return (precision*recall)/(precision+recall)"
   ]
  },
  {
   "cell_type": "code",
   "execution_count": null,
   "metadata": {
    "scrolled": true
   },
   "outputs": [],
   "source": [
    "print(train_df['target'].value_counts())\n",
    "\n",
    "true_positives = 3171\n",
    "total_observations = 7613\n",
    "# If we were to hypothetically set all observations to DISASTER\n",
    "false_positives = total_observations-true_positives\n",
    "recall = _recall(true_positives,0)\n",
    "precision = _precision(true_positives,false_positives)\n",
    "print('\\n\\nIF ALL OBSERVATIONS WERE SET TO DISASTER (POSITIVE)')\n",
    "print('RECALL: ', recall)\n",
    "print('PRECISION: ', precision)\n",
    "print('F1: ', _f1(precision, recall))\n",
    "\n",
    "# If we were to hypothetically set all observations to NOT A DISASTER\n",
    "print('\\n\\nIF ALL OBSERVATIONS WERE SET TO NOT DISASTER (NEGATIVE)')\n",
    "print('RECALL: 0 ')\n",
    "print('PRECISION: 0')\n",
    "print('F1: 0')\n",
    "\n",
    "# If we were to hypothetically set all observations to NOT A DISASTER but correctly identified 1 disaster\n",
    "false_negatives = total_observations - 1\n",
    "true_positives = 1\n",
    "false_positives = 0\n",
    "recall = _recall(true_positives,false_negatives)\n",
    "precision = _precision(true_positives,false_positives)\n",
    "print('\\n\\nIF ALL OBSERVATIONS WERE SET TO NOT DISASTER (NEGATIVE) But 1 correctly identified true positive')\n",
    "print('RECALL: ', recall)\n",
    "print('PRECISION: ', precision)\n",
    "print('F1: ', _f1(precision, recall))"
   ]
  },
  {
   "cell_type": "markdown",
   "metadata": {},
   "source": [
    "To summarize the above findings: If we label all tweets as positive disasters, then we have a high recall because we identified all disasters, but a low precision because we also incorrectly labeled many non disasters as disasters. In contrast, if we identified one true positive, but labeled the rest negatives, then the precision is high because we didn't incorrectly identify any non disasters as disasters, but recall is low because we missed many true disasters.\n",
    "\n",
    "\n",
    "Thinking about this from a cost/benefit perspective, if every tweet was labeled as a disaster (high recall, low precision), then the resources used to report and investigate the disaster is very costly. If ever tweet was labeled no disaster, then there is no benefit from using the model. Many true disasters are missed, which could cost the organization in their reputation from having a delayed reaction time to true emergencies. In this situation a true balance between recall and precision is desired.\n",
    "\n",
    "A higher F1 score represents optimizing the balance between precision and recall."
   ]
  },
  {
   "cell_type": "markdown",
   "metadata": {},
   "source": [
    "## Confusion Matrix"
   ]
  },
  {
   "cell_type": "markdown",
   "metadata": {},
   "source": [
    "## ROC Curve and AUC"
   ]
  },
  {
   "cell_type": "markdown",
   "metadata": {},
   "source": [
    "# Deployment"
   ]
  },
  {
   "cell_type": "code",
   "execution_count": null,
   "metadata": {},
   "outputs": [],
   "source": [
    "## Deployment Code"
   ]
  },
  {
   "cell_type": "code",
   "execution_count": null,
   "metadata": {},
   "outputs": [],
   "source": [
    "def generate_CSV(df,file_name):\n",
    "    file_name = file_name+\".csv\"\n",
    "    df.to_csv(file_name, index=False)\n",
    "    \n",
    "#submission_file_path = \"../input/nlp-getting-started/sample_submission.csv\"\n",
    "#test_vectors=test_tfidf\n",
    "#submission(submission_file_path,clf_NB_TFIDF,test_vectors)"
   ]
  }
 ],
 "metadata": {
  "kernelspec": {
   "display_name": "Python 3",
   "language": "python",
   "name": "python3"
  },
  "language_info": {
   "codemirror_mode": {
    "name": "ipython",
    "version": 3
   },
   "file_extension": ".py",
   "mimetype": "text/x-python",
   "name": "python",
   "nbconvert_exporter": "python",
   "pygments_lexer": "ipython3",
   "version": "3.6.10"
  }
 },
 "nbformat": 4,
 "nbformat_minor": 4
}
