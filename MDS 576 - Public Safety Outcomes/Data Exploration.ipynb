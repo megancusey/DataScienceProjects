{
 "cells": [
  {
   "cell_type": "code",
   "execution_count": 38,
   "metadata": {
    "scrolled": true
   },
   "outputs": [
    {
     "data": {
      "text/plain": [
       "0                NaN\n",
       "1                NaN\n",
       "2                NaN\n",
       "3                NaN\n",
       "4                NaN\n",
       "           ...      \n",
       "937     WOODSTOCK PD\n",
       "938         WORTH PD\n",
       "939    YATES CITY PD\n",
       "940     YORKVILLE PD\n",
       "941          ZION PD\n",
       "Name: Agency, Length: 942, dtype: object"
      ]
     },
     "execution_count": 38,
     "metadata": {},
     "output_type": "execute_result"
    }
   ],
   "source": [
    "import pandas as pd \n",
    "## Read in datasets found\n",
    "ISP_Data = pd.read_excel('2019-2018 ISP Index Crime.xlsx', sheet_name='DataSetIndexCounty', header=0) ## load this in order to skip the data pre-processing computation time.\n",
    "\n",
    "ISP_Data.describe()\n",
    "\n",
    "#ISP_Data.dropna(ISP_Data['Agency'])"
   ]
  }
 ],
 "metadata": {
  "kernelspec": {
   "display_name": "Python 3",
   "language": "python",
   "name": "python3"
  },
  "language_info": {
   "codemirror_mode": {
    "name": "ipython",
    "version": 3
   },
   "file_extension": ".py",
   "mimetype": "text/x-python",
   "name": "python",
   "nbconvert_exporter": "python",
   "pygments_lexer": "ipython3",
   "version": "3.7.4"
  }
 },
 "nbformat": 4,
 "nbformat_minor": 2
}
